{
  "nbformat": 4,
  "nbformat_minor": 0,
  "metadata": {
    "kernelspec": {
      "display_name": "Python 3",
      "language": "python",
      "name": "python3"
    },
    "language_info": {
      "codemirror_mode": {
        "name": "ipython",
        "version": 3
      },
      "file_extension": ".py",
      "mimetype": "text/x-python",
      "name": "python",
      "nbconvert_exporter": "python",
      "pygments_lexer": "ipython3",
      "version": "3.5.2"
    },
    "colab": {
      "name": "Ejercicios-TP2.ipynb",
      "provenance": [],
      "collapsed_sections": [],
      "include_colab_link": true
    }
  },
  "cells": [
    {
      "cell_type": "markdown",
      "metadata": {
        "id": "view-in-github",
        "colab_type": "text"
      },
      "source": [
        "<a href=\"https://colab.research.google.com/github/LeonelThurler/Python/blob/main/Ejercicios_TP2.ipynb\" target=\"_parent\"><img src=\"https://colab.research.google.com/assets/colab-badge.svg\" alt=\"Open In Colab\"/></a>"
      ]
    },
    {
      "cell_type": "markdown",
      "metadata": {
        "id": "t3Qwiu2zwPpM"
      },
      "source": [
        "# TP2 - EFECTO FOTOELÉCTRICO"
      ]
    },
    {
      "cell_type": "markdown",
      "metadata": {
        "id": "Z5WUXefSKOZI"
      },
      "source": [
        "## INTRODUCCIÓN"
      ]
    },
    {
      "cell_type": "markdown",
      "metadata": {
        "id": "lB3SvWY2JtEE"
      },
      "source": [
        "Escriba una introducción al Efecto Fotoeléctrico. Trate de explicar a grandes rasgos en qué contexto histórico se desarrolló, quiénes fueron los científicos involucrados en el descubrimiento y de qué trata la experiencia."
      ]
    },
    {
      "cell_type": "code",
      "metadata": {
        "id": "uL7JBfA2JrrB"
      },
      "source": [
        "# aca va la introducción (usar una celda de texto y escribir en cursiva)"
      ],
      "execution_count": null,
      "outputs": []
    },
    {
      "cell_type": "markdown",
      "metadata": {
        "id": "FrA-N6WPKX80"
      },
      "source": [
        "## DESARROLLO DEL TRABAJO"
      ]
    },
    {
      "cell_type": "markdown",
      "metadata": {
        "id": "xmHbUVZ8wPpT"
      },
      "source": [
        "Dada una fotocélula con cátodo de Potasio y ánodo de Platino (o algún otro metal), se dispone un experimento con una configuración como la explicada en el apunte teórico.<br>\n",
        "<br>\n",
        "En primer lugar, se cuenta con una lámpara de mercurio y varios filtros para permitir sólo el paso de ciertas longitudes de onda provenientes de la misma. Fijando el filtro amarillo, e iniciando con un potencial de frenado $U = 0$, varíe la tensión con el reóstato hasta comprobar que no hay más corriente en el amperímetro (y un poco más). A medida que cambia de valor de tensión, anote tensión y corriente. La tensión deberá ser tomada con signo negativo (es decir, si lee 1V, debe anotar -1V), por convención. <br>\n",
        "<br>\n",
        "Esta parte de la práctica será con intensidad de la luz constante."
      ]
    },
    {
      "cell_type": "markdown",
      "metadata": {
        "id": "8JfBr4W_fRqp"
      },
      "source": [
        "<hr>\n",
        "\n",
        "<b><u>Nota 2021:</u></b> damos una tabla de valores por no poder medir en el laboratorio. La ley que sigue esta curva es de la forma $i(v) = A.(e^{B.(v + C)}-0.899)$. Se deben hallar los parámetros A, B y C.<br>\n",
        "<br>\n",
        "<table>\n",
        "  <thead>\n",
        "    <tr><th colspan=2>Color amarillo (578 nm)</th></tr>\n",
        "    <tr><th>Tensión (V)</th><th>Corriente (pA)</th></tr>\n",
        "  </thead>\n",
        "    <tr><th>-3.00000</th><th>-7.37166</th></tr>\n",
        "    <tr><th>-2.73333</th><th>-7.37154</th></tr>\n",
        "    <tr><th>-2.46667</th><th>-7.37106</th></tr>\n",
        "    <tr><th>-2.20000</th><th>-7.36926</th></tr>\n",
        "    <tr><th>-1.93333</th><th>-7.36248</th></tr>\n",
        "    <tr><th>-1.66667</th><th>-7.33693</th></tr>\n",
        "    <tr><th>-1.40000</th><th>-7.24064</th></tr>\n",
        "    <tr><th>-1.13333</th><th>-6.87778</th></tr>\n",
        "    <tr><th>-0.86667</th><th>-5.51042</th></tr>\n",
        "    <tr><th>-0.60000</th><th>-0.35770</th></tr>\n",
        "    <tr><th>-0.59444</th><th>-0.16114</th></tr>\n",
        "    <tr><th>-0.58889</th><th>0.04093</th></tr>\n",
        "    <tr><th>-0.58333</th><th>0.24866</th></tr>\n",
        "    <tr><th>-0.57778</th><th>0.46221</th></tr>\n",
        "    <tr><th>-0.57222</th><th>0.68175</th></tr>\n",
        "    <tr><th>-0.56667</th><th>0.90744</th></tr>\n",
        "    <tr><th>-0.56111</th><th>1.13945</th></tr>\n",
        "    <tr><th>-0.55556</th><th>1.37797</th></tr>\n",
        "    <tr><th>-0.55000</th><th>1.62317</th></tr>\n",
        "    <tr><th>-0.48889</th><th>4.81903</th></tr>\n",
        "    <tr><th>-0.42778</th><th>9.15038</th></tr>\n",
        "    <tr><th>-0.36667</th><th>15.02066</th></tr>\n",
        "    <tr><th>-0.30556</th><th>22.97663</th></tr>\n",
        "    <tr><th>-0.24444</th><th>33.75934</th></tr>\n",
        "    <tr><th>-0.18333</th><th>48.37314</th></tr>\n",
        "    <tr><th>-0.12222</th><th>68.17920</th></tr>\n",
        "    <tr><th>-0.06111</th><th>95.02232</th></tr>\n",
        "</table>"
      ]
    },
    {
      "cell_type": "code",
      "metadata": {
        "id": "EJygqJkTwPpU",
        "colab": {
          "base_uri": "https://localhost:8080/",
          "height": 310
        },
        "outputId": "56047556-4d90-42e6-b986-5b4a0b673684"
      },
      "source": [
        "# aca va la curva tensión de frenado versus la corriente observada\n",
        "import math\n",
        "import matplotlib.pyplot as plt\n",
        "import numpy as np\n",
        "import pylab as pl\n",
        "from scipy import optimize\n",
        "from scipy.optimize import curve_fit\n",
        "\n",
        "# Datos del ejercicio\n",
        "v = np.array([-3.00000, -2.73333, -2.46667, -2.20000, -1.93333, -1.66667, -1.40000, -1.13333, -0.86667, -0.60000, -0.59444, -0.58889, -0.58333, -0.57778, -0.57222, -0.56667, -0.56111, -0.55556, -0.55000, -0.48889, -0.42778, -0.36667, -0.30556, -0.24444, -0.18333, -0.12222, -0.06111])\n",
        "i = np.array([-7.37166,-7.37154,-7.37106,-7.36926,-7.36248,-7.33693,-7.24064,-6.87778,-5.51042,-0.35770,-0.16114,0.04093,0.24866,0.46221,0.68175,0.90744,1.13945,1.37797,1.62317,4.81903,9.15038,15.02066,22.97663,33.75934,48.37314,68.17920,95.02232])\n",
        "\n",
        "#Funcion del problema\n",
        "def func(v, a, b, c):\n",
        "  return a*(np.exp(b*(v+c)) - 0.899)\n",
        "\n",
        "#Utilizo la funcion curve_fit para averiguar los parametros A,B y C\n",
        "parametros, params_covariance = optimize.curve_fit (func,v,i)\n",
        "c=parametros[2]\n",
        "b=parametros[1]\n",
        "a=parametros[0]\n",
        "print(\"Cte A:\",a)\n",
        "print(\"Cte B:\",b)\n",
        "print(\"Cte C:\",c)\n",
        "\n",
        "#Ejes del grafico\n",
        "ax = pl.gca()\n",
        "ax.spines['right'].set_color('none')\n",
        "ax.spines['top'].set_color('none')\n",
        "ax.xaxis.set_ticks_position('bottom')\n",
        "ax.spines['bottom'].set_position(('data',0))\n",
        "ax.yaxis.set_ticks_position('left')\n",
        "ax.spines['left'].set_position(('data',0))\n",
        "\n",
        "#Grafica\n",
        "plt.plot(v, func(v,a,b,c),\"--\")\n",
        "plt.xlabel(\"Tension V\")\n",
        "plt.ylabel(\"Corriente I\")\n",
        "plt.plot(v, i, \"o\", color = \"red\")\n",
        "plt.grid(True)\n",
        "plt.show()"
      ],
      "execution_count": null,
      "outputs": [
        {
          "output_type": "stream",
          "text": [
            "Cte A: 8.199867537851476\n",
            "Cte B: 4.974883206482456\n",
            "Cte C: 0.5686006042389258\n"
          ],
          "name": "stdout"
        },
        {
          "output_type": "display_data",
          "data": {
            "image/png": "[encoded data removed]",
            "text/plain": [
              "<Figure size 432x288 with 1 Axes>"
            ]
          },
          "metadata": {
            "tags": [],
            "needs_background": "light"
          }
        }
      ]
    },
    {
      "cell_type": "markdown",
      "metadata": {
        "id": "j_19j5HXwPpV"
      },
      "source": [
        "En segundo lugar, determine el valor de $U_0$ hallando el primer valor de tensión en el cual la corriente se hace cero. Hay varias formas de determinar este potencial, algunas de las cuales son más precisas que otras. Para este trabajo, consideraremos el cruce de la curva con el eje de las abcisas (o sea, la tensión $U$)."
      ]
    },
    {
      "cell_type": "code",
      "metadata": {
        "id": "L-bKLZ9mwPpV",
        "colab": {
          "base_uri": "https://localhost:8080/"
        },
        "outputId": "403b68d2-c0a3-49b7-e04e-ef1b114e84a8"
      },
      "source": [
        "# aca va el valor de U0\n",
        "import sympy as sp\n",
        "import pandas as pd\n",
        "import numpy as np\n",
        "\n",
        "a= 8.199867537851476\n",
        "b= 4.974883206482456\n",
        "c= 0.5686006042389258\n",
        "def samesign(a, b):\n",
        "        return a * b > 0\n",
        "\n",
        "def biseccion(funci, inferior, superior):\n",
        "    assert not samesign(funci(inferior), funci(superior))\n",
        "    for i in range(54):\n",
        "        c = (inferior + superior) / 2.0\n",
        "        if samesign(funci(inferior), funci(c)):\n",
        "            inferior = c\n",
        "        else:\n",
        "            superior = c\n",
        "    return c\n",
        "\n",
        "def f(v):\n",
        "        return a*(np.exp(b*(v+c)) - 0.899)\n",
        "\n",
        "v = biseccion(f, -0.75, -0.5)\n",
        "print (\"El valor de V0 es\",v,\"para que la funcion sea\", f(v))"
      ],
      "execution_count": 28,
      "outputs": [
        {
          "output_type": "stream",
          "text": [
            "El valor de V0 es -0.590002562856121 para que la funcion sea 0.0\n"
          ],
          "name": "stdout"
        }
      ]
    },
    {
      "cell_type": "markdown",
      "metadata": {
        "id": "vx3B0CETwPpW"
      },
      "source": [
        "Ahora proceda a hallar un valor de $U_0$ para cada \n",
        "filtro de color.<br>\n",
        "<br>\n",
        "La ley que sigue la curva del color verde (546 nm) es de la forma $i(v) = A.(e^{B.(v + C)}-0,5201)$. Se deben hallar los parámetros A, B y C (si se calcularon para el amarillo, son los mismos, sólo hay que despejar el valor de $v$ cuando $i(v) = 0$, o sea, puede no usarse la tabla).<br>\n",
        "Debe realizarse el gráfico de la curva, a partir de la ley.\n",
        "<br>\n",
        "<table>\n",
        "  <thead>\n",
        "    <tr><th colspan=2>Color verde (546 nm)</th></tr>\n",
        "    <tr><th>Tensión (V)</th><th>Corriente (pA)</th></tr>\n",
        "  </thead>\n",
        "    <tr><th>-3.00000</th><th>-4.26472</th></tr>\n",
        "    <tr><th>-2.75556</th><th>-4.26461</th></tr>\n",
        "    <tr><th>-2.51111</th><th>-4.26425</th></tr>\n",
        "    <tr><th>-2.26667</th><th>-4.26301</th></tr>\n",
        "    <tr><th>-2.02222</th><th>-4.25884</th></tr>\n",
        "    <tr><th>-1.77778</th><th>-4.24476</th></tr>\n",
        "    <tr><th>-1.53333</th><th>-4.19725</th></tr>\n",
        "    <tr><th>-1.28889</th><th>-4.03696</th></tr>\n",
        "    <tr><th>-1.04444</th><th>-3.49615</th></tr>\n",
        "    <tr><th>-0.80000</th><th>-1.67147</th></tr>\n",
        "    <tr><th>-0.78333</th><th>-1.44728</th></tr>\n",
        "    <tr><th>-0.76667</th><th>-1.20371</th></tr>\n",
        "    <tr><th>-0.75000</th><th>-0.93908</th></tr>\n",
        "    <tr><th>-0.73333</th><th>-0.65158</th></tr>\n",
        "    <tr><th>-0.71667</th><th>-0.33922</th></tr>\n",
        "    <tr><th>-0.70000</th><th>0.00014</th></tr>\n",
        "    <tr><th>-0.68333</th><th>0.36884</th></tr>\n",
        "    <tr><th>-0.66667</th><th>0.76941</th></tr>\n",
        "    <tr><th>-0.65000</th><th>1.20461</th></tr>\n",
        "    <tr><th>-0.57778</th><th>3.56916</th></tr>\n",
        "    <tr><th>-0.50556</th><th>6.95595</th></tr>\n",
        "    <tr><th>-0.43333</th><th>11.80693</th></tr>\n",
        "    <tr><th>-0.36111</th><th>18.75512</th></tr>\n",
        "    <tr><th>-0.28889</th><th>28.70717</th></tr>\n",
        "    <tr><th>-0.21667</th><th>42.96173</th></tr>\n",
        "    <tr><th>-0.14444</th><th>63.37888</th></tr>\n",
        "    <tr><th>-0.07222</th><th>92.62285</th></tr>\n",
        "    <tr><th>0.00000</th><th>134.50970</th></tr>\n",
        "</table>"
      ]
    },
    {
      "cell_type": "code",
      "metadata": {
        "id": "Td1KIxa3-we5",
        "colab": {
          "base_uri": "https://localhost:8080/",
          "height": 370
        },
        "outputId": "e3fee656-9075-4e49-9887-7f6c39cea8fb"
      },
      "source": [
        "# aca va el valor de U0 para el verde y la grafica\n",
        "import math\n",
        "import matplotlib.pyplot as plt\n",
        "import numpy as np\n",
        "import pylab as pl\n",
        "import sympy as sp\n",
        "import pandas as pd\n",
        "from scipy import optimize\n",
        "from scipy.optimize import curve_fit\n",
        "\n",
        "# Datos del ejercicio\n",
        "v = np.array([-3.00000,-2.75556,-2.51111,-2.26667,-2.02222,-1.77778,-1.53333,-1.28889,-1.04444,-0.80000,-0.78333,-0.76667,-0.75000,-0.73333,-0.71667,-0.70000,-0.68333,-0.66667,-0.65000,-0.57778,-0.50556,-0.43333,-0.36111,-0.28889,-0.21667,-0.14444,-0.07222,0.00000])\n",
        "i = np.array([-4.26472,-4.26461,-4.26425,-4.26301,-4.25884,-4.24476,-4.19725,-4.03696,-3.49615,-1.67147,-1.44728,-1.20371,-0.93908,-0.65158,-0.33922,0.00014,0.36884,0.76941,1.20461,3.56916,6.95595,11.80693,18.75512,28.70717,42.96173,63.37888,92.62285,134.50970])\n",
        "\n",
        "#Funcion del problema\n",
        "def func(v, a, b, c):\n",
        "  return a*(np.exp(b*(v+c)) - 0.5201)\n",
        "\n",
        "#Utilizo la funcion curve_fit para averiguar los parametros A,B y C\n",
        "parametros, params_covariance = optimize.curve_fit (func,v,i)\n",
        "c=parametros[2]\n",
        "b=parametros[1]\n",
        "a=parametros[0]\n",
        "print(\"Cte A:\",a)\n",
        "print(\"Cte B:\",b)\n",
        "print(\"Cte C:\",c)\n",
        "\n",
        "#Utilizo el metodo de biseccion para encontrar la tension que hace que la corriente sea 0\n",
        "def samesign(a, b):\n",
        "        return a * b > 0\n",
        "\n",
        "def biseccion(funci, inferior, superior):\n",
        "    assert not samesign(funci(inferior), funci(superior))\n",
        "    for i in range(54):\n",
        "        c = (inferior + superior) / 2.0\n",
        "        if samesign(funci(inferior), funci(c)):\n",
        "            inferior = c\n",
        "        else:\n",
        "            superior = c\n",
        "    return c\n",
        "\n",
        "def f(t):\n",
        "        return a*(np.exp(b*(t+c)) - 0.5201)\n",
        "\n",
        "t = biseccion(f, -3, -0.5)\n",
        "print (\"El valor de V0 es\",t,\"para que la corriente sea\",f(t))\n",
        "\n",
        "#Ejes del grafico\n",
        "ax = pl.gca()\n",
        "ax.spines['right'].set_color('none')\n",
        "ax.spines['top'].set_color('none')\n",
        "ax.xaxis.set_ticks_position('bottom')\n",
        "ax.spines['bottom'].set_position(('data',0))\n",
        "ax.yaxis.set_ticks_position('left')\n",
        "ax.spines['left'].set_position(('data',0))\n",
        "\n",
        "#Grafica\n",
        "plt.plot(v, func(v,a,b,c),\"--\")\n",
        "plt.xlabel(\"Tension V\")\n",
        "plt.ylabel(\"Corriente I\")\n",
        "plt.plot(v, i, \"o\", color = \"red\")\n",
        "plt.grid(True)\n",
        "plt.show()"
      ],
      "execution_count": 56,
      "outputs": [
        {
          "output_type": "stream",
          "text": [
            "Cte A: 8.199802068589333\n",
            "Cte B: 4.974911282052066\n",
            "Cte C: 0.5686002548158544\n",
            "El valor de V0 es -0.7000064530653749 para que la corriente sea 1.820721810783373e-15\n"
          ],
          "name": "stdout"
        },
        {
          "output_type": "stream",
          "text": [
            "/usr/local/lib/python3.7/dist-packages/ipykernel_launcher.py:17: RuntimeWarning: overflow encountered in exp\n"
          ],
          "name": "stderr"
        },
        {
          "output_type": "display_data",
          "data": {
            "image/png": "[encoded data removed]",
            "text/plain": [
              "<Figure size 432x288 with 1 Axes>"
            ]
          },
          "metadata": {
            "tags": [],
            "needs_background": "light"
          }
        }
      ]
    },
    {
      "cell_type": "code",
      "metadata": {
        "id": "yU5BfGVL1EXt"
      },
      "source": [
        ""
      ],
      "execution_count": null,
      "outputs": []
    },
    {
      "cell_type": "markdown",
      "metadata": {
        "id": "KW1A9svez7At"
      },
      "source": [
        "La ley que sigue la curva del color azul (436 nm) es de la forma $i(v) = A.(e^{B.(v + C)}-0,0372)$. Los parámetros A, B y C son los mismos que para el verde.<br>\n",
        "Debe realizarse el gráfico de la curva, a partir de la ley.\n",
        "<br>"
      ]
    },
    {
      "cell_type": "code",
      "metadata": {
        "id": "4tlnCL35_bZ9",
        "colab": {
          "base_uri": "https://localhost:8080/",
          "height": 286
        },
        "outputId": "9f8792a7-3f2f-4ceb-d960-cbb406f9d3f1"
      },
      "source": [
        "# aca va el valor de U0 para el azul y la grafica\n",
        "import math\n",
        "import matplotlib.pyplot as plt\n",
        "import numpy as np\n",
        "import pylab as pl\n",
        "import sympy as sp\n",
        "import pandas as pd\n",
        "\n",
        "#Constantes halladas anteriormente\n",
        "A= 8.199802068589333\n",
        "B= 4.974911282052066\n",
        "C= 0.5686002548158544\n",
        "\n",
        "#Utilizo el metodo de biseccion para encontrar la tension que hace que la corriente sea 0\n",
        "def samesign(a, b):\n",
        "        return a * b > 0\n",
        "\n",
        "def biseccion(funci, inferior, superior):\n",
        "    assert not samesign(funci(inferior), funci(superior))\n",
        "    for i in range(54):\n",
        "        c = (inferior + superior) / 2.0\n",
        "        if samesign(funci(inferior), funci(c)):\n",
        "            inferior = c\n",
        "        else:\n",
        "            superior = c\n",
        "    return c\n",
        "\n",
        "def f(t):\n",
        "        return a*(np.exp(b*(t+c)) - 0.0372)\n",
        "\n",
        "t = biseccion(f, -3, -0.5)\n",
        "print (\"El valor de V0 es\",t,\"para que la corriente sea\",f(t))\n",
        "\n",
        "#Ejes del grafico\n",
        "ax = pl.gca()\n",
        "ax.spines['right'].set_color('none')\n",
        "ax.spines['top'].set_color('none')\n",
        "ax.xaxis.set_ticks_position('bottom')\n",
        "ax.spines['bottom'].set_position(('data',0))\n",
        "ax.yaxis.set_ticks_position('left')\n",
        "ax.spines['left'].set_position(('data',0))\n",
        "\n",
        "#Grafica\n",
        "v= np.linspace(-3, 0, 1000)\n",
        "plt.plot(v, f(v),\"--\")\n",
        "plt.xlabel(\"Tension V\")\n",
        "plt.ylabel(\"Corriente I\")\n",
        "plt.grid(True)\n",
        "plt.show()"
      ],
      "execution_count": 55,
      "outputs": [
        {
          "output_type": "stream",
          "text": [
            "El valor de V0 es -1.230209343118578 para que la corriente sea -5.689755658707973e-17\n"
          ],
          "name": "stdout"
        },
        {
          "output_type": "display_data",
          "data": {
            "image/png": "[encoded data removed]",
            "text/plain": [
              "<Figure size 432x288 with 1 Axes>"
            ]
          },
          "metadata": {
            "tags": [],
            "needs_background": "light"
          }
        }
      ]
    },
    {
      "cell_type": "markdown",
      "metadata": {
        "id": "GjUoZzJp0AdF"
      },
      "source": [
        "La ley que sigue la curva del color violeta (405 nm) es de la forma $i(v) = A.(e^{\\frac{B}{2}.(v - \\frac{C}{2})}-0,0159)$. Los parámetros A, B y C son los mismos que para el verde.<br>\n",
        "Debe realizarse el gráfico de la curva, a partir de la ley.\n",
        "<br>"
      ]
    },
    {
      "cell_type": "code",
      "metadata": {
        "id": "yQ3JkudCwPpW",
        "colab": {
          "base_uri": "https://localhost:8080/",
          "height": 280
        },
        "outputId": "27f4df5c-35d3-4008-cc9a-ff6ca996a64a"
      },
      "source": [
        "# aca va el valor de U0 para el violeta y la grafica\n",
        "import math\n",
        "import matplotlib.pyplot as plt\n",
        "import numpy as np\n",
        "import pylab as pl\n",
        "import sympy as sp\n",
        "import pandas as pd\n",
        "\n",
        "#Constantes halladas anteriormente\n",
        "A= 8.199802068589333\n",
        "B= 4.974911282052066\n",
        "C= 0.5686002548158544\n",
        "\n",
        "#Utilizo el metodo de biseccion para encontrar la tension que hace que la corriente sea 0\n",
        "def samesign(a, b):\n",
        "        return a * b > 0\n",
        "\n",
        "def biseccion(funci, inferior, superior):\n",
        "    assert not samesign(funci(inferior), funci(superior))\n",
        "    for i in range(54):\n",
        "        c = (inferior + superior) / 2.0\n",
        "        if samesign(funci(inferior), funci(c)):\n",
        "            inferior = c\n",
        "        else:\n",
        "            superior = c\n",
        "    return c\n",
        "\n",
        "def f(t):\n",
        "        return a*(np.exp((b/2)*(t-c/2)) - 0.0159)\n",
        "\n",
        "t = biseccion(f, -3, -0.5)\n",
        "print (\"El valor de V0 es\",t,\"para que la corriente sea\",f(t))\n",
        "\n",
        "#Ejes del grafica\n",
        "ax = pl.gca()\n",
        "ax.spines['right'].set_color('none')\n",
        "ax.spines['top'].set_color('none')\n",
        "ax.xaxis.set_ticks_position('bottom')\n",
        "ax.spines['bottom'].set_position(('data',0))\n",
        "ax.yaxis.set_ticks_position('left')\n",
        "ax.spines['left'].set_position(('data',0))\n",
        "\n",
        "#Grafica\n",
        "v= np.linspace(-3, 0, 1000)\n",
        "plt.plot(v, f(v),\"--\")\n",
        "plt.xlabel(\"Tension V\")\n",
        "plt.ylabel(\"Corriente I\")\n",
        "plt.grid(True)\n",
        "plt.show()"
      ],
      "execution_count": 54,
      "outputs": [
        {
          "output_type": "stream",
          "text": [
            "El valor de V0 es -1.3806285255712085 para que la corriente sea 0.0\n"
          ],
          "name": "stdout"
        },
        {
          "output_type": "display_data",
          "data": {
            "image/png": "[encoded data removed]",
            "text/plain": [
              "<Figure size 432x288 with 1 Axes>"
            ]
          },
          "metadata": {
            "tags": [],
            "needs_background": "light"
          }
        }
      ]
    },
    {
      "cell_type": "markdown",
      "metadata": {
        "id": "fjgjbhXcwPpW"
      },
      "source": [
        "Si todos los pasos fueron ejecutados correctamente, deberá tener una tabla de frecuencias (expresadas en $\\text{[THz]} = 10^{\\text{12}} \\text{[Hz]}$) contra tensiones de corte $U_0$ (expresadas en $\\text{[Volt]}$).<br>\n",
        "<br>\n",
        "En estas condiciones, arme un gráfico X-Y, colocando en X las frecuencias y en Y las tensiones contenidas en la tabla, cambiando el signo de las tensiones (de negativas a positivas, también, por convención) y agregando el error producto de la medición tal cual se explica más abajo. Ajuste una recta a todos los puntos y halle:\n",
        "- Pendiente\n",
        "- Cruce con el eje X (frecuencias)\n",
        "- Ordenada al origen\n",
        "\n",
        "<br><b>Error en tensiones:</b> si bien estamos considerando formas matemáticas para las curvas de tensión y corriente, estas tensiones pueden ser medidas (como hacemos con el color amarillo). Por este motivo, a las tensiones halladas hay que agregarles el error instrumental (despreciamos el de operación). Consideraremos el error de los instrumentos analógicos (mínima división sobre 2) y lo fijaremos en 0,1 V.\n",
        "\n",
        "<br>¿Por qué no consideramos error en las frecuencias? Piense en las magnitudes y unidades de la frecuencia y ensaye una explicación."
      ]
    },
    {
      "cell_type": "code",
      "metadata": {
        "id": "JW1JFppIwPpX"
      },
      "source": [
        "# aca va la grafica de ajuste"
      ],
      "execution_count": null,
      "outputs": []
    },
    {
      "cell_type": "markdown",
      "metadata": {
        "id": "rCtrhk0kwPpX"
      },
      "source": [
        "Indique:\n",
        "- ¿Qué significa la ordenada al origen multiplicada por la carga del electrón?\n",
        "- ¿Qué significa el punto donde la curva cruza por el eje de las abcisas?\n",
        "- Valor de la constante de Planck junto con su error.\n",
        "- Calidad del ajuste R^2."
      ]
    },
    {
      "cell_type": "code",
      "metadata": {
        "id": "0fy4mog3wPpY"
      },
      "source": [
        "# aca van las soluciones de las preguntas y la cte. de Planck"
      ],
      "execution_count": null,
      "outputs": []
    },
    {
      "cell_type": "markdown",
      "metadata": {
        "id": "RzwntJ4sw-4D"
      },
      "source": [
        "Usando este <a href=\"https://phet.colorado.edu/es/simulation/photoelectric\">simulador</a>, probaremos qué pasa con distintos materiales y con distintas intensidades de luz (requiere Java). De no poder ejecutarlo en el navegador, pruebe descargando la <i>aplicación .jar</i> a su computadora y ejecutándola local.<br>\n",
        "<br>\n",
        "<i>1) Seleccione sodio, luz al 100% y longitud de onda de 400 nm. La tensión de corte está en -0.8V. En estas condiciones, varíe la intensidad de la luz. Registre su observación.<br>\n",
        "2) Ahora, ubique el dial de tensión en -0.4V y luz al 100%. Registre su observación.<br>\n",
        "3) Por último, con el dial de tensión en -0.4V, varíe la intensidad lumínica de 100% a 80%, 60% y 40%. Registre sus observaciones.</i><br>\n",
        "<br>\n",
        "Con todos estos registros y junto a la teoría, ¿qué conclusiones puede obtener?<br>\n",
        "<br>\n",
        "<i>1) Seleccione sodio, luz al 100% y longitud de onda en 300 nm. La tensión de corte está en -1.8V. En estas condiciones, seleccione calcio y registre dónde se ubica la nueva tensión de corte.<br>\n",
        "2) Vuelva al sodio y coloque el dial de tensión en 0V, registrando la corriente. Una vez hecho esto, cambie a calcio y registre la nueva corriente.</i><br>\n",
        "<br>\n",
        "Con todos estos registros y junto a la teoría, ¿qué conclusiones puede obtener?\n"
      ]
    },
    {
      "cell_type": "code",
      "metadata": {
        "id": "FTZUne9_2l10"
      },
      "source": [
        "# aca van las respuestas (usar una celda de texto y escribir en cursiva)"
      ],
      "execution_count": null,
      "outputs": []
    },
    {
      "cell_type": "markdown",
      "metadata": {
        "id": "9W1B2nLGKcMm"
      },
      "source": [
        "## CONCLUSIONES"
      ]
    },
    {
      "cell_type": "markdown",
      "metadata": {
        "id": "ZepRV5u4KewK"
      },
      "source": [
        "Intente resumir los resultados del trabajo, resaltando lo que le pareció más importante. Vincule los resultados con el Efecto Fotoeléctrico según lo que describió en la Introducción de este TP."
      ]
    },
    {
      "cell_type": "code",
      "metadata": {
        "id": "sOYkeKiGKd7t"
      },
      "source": [
        "# aca van las conclusiones (usar una celda de texto y escribir en cursiva)"
      ],
      "execution_count": null,
      "outputs": []
    }
  ]
}