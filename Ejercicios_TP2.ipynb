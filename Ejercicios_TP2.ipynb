{
  "nbformat": 4,
  "nbformat_minor": 0,
  "metadata": {
    "kernelspec": {
      "display_name": "Python 3",
      "language": "python",
      "name": "python3"
    },
    "language_info": {
      "codemirror_mode": {
        "name": "ipython",
        "version": 3
      },
      "file_extension": ".py",
      "mimetype": "text/x-python",
      "name": "python",
      "nbconvert_exporter": "python",
      "pygments_lexer": "ipython3",
      "version": "3.5.2"
    },
    "colab": {
      "name": "Ejercicios-TP2.ipynb",
      "provenance": [],
      "collapsed_sections": [],
      "include_colab_link": true
    }
  },
  "cells": [
    {
      "cell_type": "markdown",
      "metadata": {
        "id": "view-in-github",
        "colab_type": "text"
      },
      "source": [
        "<a href=\"https://colab.research.google.com/github/LeonelThurler/Python/blob/main/Ejercicios_TP2.ipynb\" target=\"_parent\"><img src=\"https://colab.research.google.com/assets/colab-badge.svg\" alt=\"Open In Colab\"/></a>"
      ]
    },
    {
      "cell_type": "markdown",
      "metadata": {
        "id": "t3Qwiu2zwPpM"
      },
      "source": [
        "# TP2 - EFECTO FOTOELÉCTRICO"
      ]
    },
    {
      "cell_type": "markdown",
      "metadata": {
        "id": "Z5WUXefSKOZI"
      },
      "source": [
        "## INTRODUCCIÓN"
      ]
    },
    {
      "cell_type": "markdown",
      "metadata": {
        "id": "lB3SvWY2JtEE"
      },
      "source": [
        "Escriba una introducción al Efecto Fotoeléctrico. Trate de explicar a grandes rasgos en qué contexto histórico se desarrolló, quiénes fueron los científicos involucrados en el descubrimiento y de qué trata la experiencia."
      ]
    },
    {
      "cell_type": "markdown",
      "metadata": {
        "id": "b7By8F3RqDnX"
      },
      "source": [
        "*El efecto fotoeléctrico fue observado por primera vez por el físico alemán Heinrich Hertz en 1887. Hertz lo descubrió accidentalmente, durante el experimento de un oscilador (mediante el cual buscaba generar ondas electromagnéticas) al observar que el arco que salta entre dos electrodos conectados a alta tensión alcanza distancias mayores cuando se iluminan con luz ultravioleta que cuando se dejan en la oscuridad. Luego, el alemán Philipp Lenard (1862-1947) describió este fenómeno, llamado efecto fotoeléctrico, como la emisión de electrones por parte de las superficies metálicas cuando sobre ellas incide luz visible o ultravioleta. J.J. Thomson (creador del modelo atómico que lleva su apellido en 1904) identificó estas chispas como electrones excitados saliendo de la superficie del metal.*\n",
        "*La explicación del efecto fotoeléctrico fue el trabajo principal citado cuando se le concedió el premio Nobel de Física en 1921 a Albert Einstein (1879-1955). La explicación de Einstein, propuesta en 1905, desempeñó un papel importante en el desarrollo de la física atómica. Basó su teoría en una hipótesis muy atrevida, ya que pocos de los detalles experimentales se conocían en 1905. Además, el punto clave de la explicación de Einstein contradecía las ideas clásicas de la época. Einstein asumió que la energía de la luz no estaba distribuida uniformemente en todo el frente de onda en expansión (como suponía la teoría clásica). En cambio, la energía de la luz se concentraría en “paquetes” separados. La cantidad de energía en cada uno de estos paquetes no sería una cantidad cualquiera, sino una cantidad definida de energía que es proporcional a la frecuencia ‘f’ de la onda luminosa.*\n",
        "\n",
        "*Presentamos a continuación una cita del mismo Einstein en al artículo original de 1905, en traducción libre y con la notación adaptada a la que venimos utilizando:*\n",
        "\n",
        "\n",
        "[…]*De acuerdo con la idea de que la luz incidente se compone de cuantos con energía “h.f”, la expulsión de los rayos catódicos (fotoelectrones) por luz se puede entender de la siguiente manera. Los cuantos de energía penetran en la capa superficial del cuerpo y su energía se convierte, al menos en parte, en energía cinética de electrones. La imagen más simple es que un cuanto de luz cede toda su energía a un solo electrón; Asumiremos que esto sucede. Un electrón provisto de energía cinética dentro del cuerpo puede haber perdido parte de su energía cinética en el momento en que llega a la superficie. Además, se debe suponer que cada electrón, al abandonar el cuerpo, tiene que realizar una cantidad de trabajo W (que es característica del cuerpo). Los electrones expulsados directamente desde la superficie y en ángulos rectos tendrán las mayores velocidades perpendiculares a la superficie. La energía cinética máxima de uno de estos electrones es:*\n",
        "*Ecmax = hf – W […]*\n",
        "\n",
        "\n",
        "*Siendo esta ultima la ecuación fotoeléctrica.*\n",
        "*La energía cinética de los fotoelectrones (electrones generados por efecto fotoeléctrico) es mayor que cero solo cuando la energía del fotón (h.f) es mayor que el trabajo W, que es el trabajo que debe realizar el electrón contra las fuerzas de atracción del material en el que se encuentra para escapar de él. La energía requerida para escapar del material se conoce como la función de trabajo. Por lo tanto, solo se puede emitir un electrón cuando la frecuencia de la luz incidente es mayor que un cierto valor mínimo que corresponde al trabajo requerido para escapar del material. La frecuencia mínima o umbral (fo) viene definida para cada material por la igualdad \"h.fo = W\".*\n",
        "*Según el modelo fotónico de la luz de Einstein, es un fotón individual de frecuencia ‘f’ el que expulsa a un electrón si f > f0 . Como la intensidad de la luz es proporcional al número de fotones en el haz de luz y el número de fotoelectrones expulsados es proporcional al número de fotones incidentes en la superficie, la cantidad de electrones expulsados (y con ella la corriente fotoeléctrica) es proporcional a la intensidad de la luz incidente.*\n",
        "*En el modelo de Einstein, la energía luminosa se concentra en una serie de cuantos de luz (fotones). Por tanto no se necesita tiempo para que el electrón acumule energía luminosa. En efecto, los cuantos transfieren su energía inmediatamente a los fotoelectrones, que escapan de la superficie casi inmediatamente.*\n",
        "*Finalmente, la ecuación fotoeléctrica predice que cuanto mayor sea la frecuencia de la luz incidente mayor será la energía cinética máxima de los electrones expulsados. Esto es así porque la energía del fotón es directamente proporcional a la frecuencia de la luz. La energía mínima necesaria para expulsar un electrón es la energía requerida para que el electrón escape de la superficie del material. Esto explica por qué la luz de una frecuencia menor que la frecuencia ‘fo’ no puede expulsar ningún electrón. La energía cinética del electrón que se escapa es la diferencia entre la energía del fotón absorbido y la energía perdida por el electrón al escapar de la superficie: si la primera no compensa a la segunda el electrón no escapa del material.*"
      ]
    },
    {
      "cell_type": "markdown",
      "metadata": {
        "id": "FrA-N6WPKX80"
      },
      "source": [
        "## DESARROLLO DEL TRABAJO"
      ]
    },
    {
      "cell_type": "markdown",
      "metadata": {
        "id": "xmHbUVZ8wPpT"
      },
      "source": [
        "Dada una fotocélula con cátodo de Potasio y ánodo de Platino (o algún otro metal), se dispone un experimento con una configuración como la explicada en el apunte teórico.<br>\n",
        "<br>\n",
        "En primer lugar, se cuenta con una lámpara de mercurio y varios filtros para permitir sólo el paso de ciertas longitudes de onda provenientes de la misma. Fijando el filtro amarillo, e iniciando con un potencial de frenado $U = 0$, varíe la tensión con el reóstato hasta comprobar que no hay más corriente en el amperímetro (y un poco más). A medida que cambia de valor de tensión, anote tensión y corriente. La tensión deberá ser tomada con signo negativo (es decir, si lee 1V, debe anotar -1V), por convención. <br>\n",
        "<br>\n",
        "Esta parte de la práctica será con intensidad de la luz constante."
      ]
    },
    {
      "cell_type": "markdown",
      "metadata": {
        "id": "8JfBr4W_fRqp"
      },
      "source": [
        "<hr>\n",
        "\n",
        "<b><u>Nota 2021:</u></b> damos una tabla de valores por no poder medir en el laboratorio. La ley que sigue esta curva es de la forma $i(v) = A.(e^{B.(v + C)}-0.899)$. Se deben hallar los parámetros A, B y C.<br>\n",
        "<br>\n",
        "<table>\n",
        "  <thead>\n",
        "    <tr><th colspan=2>Color amarillo (578 nm)</th></tr>\n",
        "    <tr><th>Tensión (V)</th><th>Corriente (pA)</th></tr>\n",
        "  </thead>\n",
        "    <tr><th>-3.00000</th><th>-7.37166</th></tr>\n",
        "    <tr><th>-2.73333</th><th>-7.37154</th></tr>\n",
        "    <tr><th>-2.46667</th><th>-7.37106</th></tr>\n",
        "    <tr><th>-2.20000</th><th>-7.36926</th></tr>\n",
        "    <tr><th>-1.93333</th><th>-7.36248</th></tr>\n",
        "    <tr><th>-1.66667</th><th>-7.33693</th></tr>\n",
        "    <tr><th>-1.40000</th><th>-7.24064</th></tr>\n",
        "    <tr><th>-1.13333</th><th>-6.87778</th></tr>\n",
        "    <tr><th>-0.86667</th><th>-5.51042</th></tr>\n",
        "    <tr><th>-0.60000</th><th>-0.35770</th></tr>\n",
        "    <tr><th>-0.59444</th><th>-0.16114</th></tr>\n",
        "    <tr><th>-0.58889</th><th>0.04093</th></tr>\n",
        "    <tr><th>-0.58333</th><th>0.24866</th></tr>\n",
        "    <tr><th>-0.57778</th><th>0.46221</th></tr>\n",
        "    <tr><th>-0.57222</th><th>0.68175</th></tr>\n",
        "    <tr><th>-0.56667</th><th>0.90744</th></tr>\n",
        "    <tr><th>-0.56111</th><th>1.13945</th></tr>\n",
        "    <tr><th>-0.55556</th><th>1.37797</th></tr>\n",
        "    <tr><th>-0.55000</th><th>1.62317</th></tr>\n",
        "    <tr><th>-0.48889</th><th>4.81903</th></tr>\n",
        "    <tr><th>-0.42778</th><th>9.15038</th></tr>\n",
        "    <tr><th>-0.36667</th><th>15.02066</th></tr>\n",
        "    <tr><th>-0.30556</th><th>22.97663</th></tr>\n",
        "    <tr><th>-0.24444</th><th>33.75934</th></tr>\n",
        "    <tr><th>-0.18333</th><th>48.37314</th></tr>\n",
        "    <tr><th>-0.12222</th><th>68.17920</th></tr>\n",
        "    <tr><th>-0.06111</th><th>95.02232</th></tr>\n",
        "</table>"
      ]
    },
    {
      "cell_type": "code",
      "metadata": {
        "id": "EJygqJkTwPpU",
        "colab": {
          "base_uri": "https://localhost:8080/",
          "height": 310
        },
        "outputId": "68115efb-fa3b-416c-918a-2772794fb4a9"
      },
      "source": [
        "# aca va la curva tensión de frenado versus la corriente observada\n",
        "import math\n",
        "import matplotlib.pyplot as plt\n",
        "import numpy as np\n",
        "import pylab as pl\n",
        "from scipy import optimize\n",
        "from scipy.optimize import curve_fit\n",
        "\n",
        "# Datos del ejercicio\n",
        "v = np.array([-3.00000, -2.73333, -2.46667, -2.20000, -1.93333, -1.66667, -1.40000, -1.13333, -0.86667, -0.60000, -0.59444, -0.58889, -0.58333, -0.57778, -0.57222, -0.56667, -0.56111, -0.55556, -0.55000, -0.48889, -0.42778, -0.36667, -0.30556, -0.24444, -0.18333, -0.12222, -0.06111])\n",
        "i = np.array([-7.37166,-7.37154,-7.37106,-7.36926,-7.36248,-7.33693,-7.24064,-6.87778,-5.51042,-0.35770,-0.16114,0.04093,0.24866,0.46221,0.68175,0.90744,1.13945,1.37797,1.62317,4.81903,9.15038,15.02066,22.97663,33.75934,48.37314,68.17920,95.02232])\n",
        "\n",
        "#Funcion del problema\n",
        "def func(v, a, b, c):\n",
        "  return a*(np.exp(b*(v+c)) - 0.899)\n",
        "\n",
        "#Utilizo la funcion curve_fit para averiguar los parametros A,B y C\n",
        "parametros, params_covariance = optimize.curve_fit (func,v,i)\n",
        "c=parametros[2]\n",
        "b=parametros[1]\n",
        "a=parametros[0]\n",
        "print(\"Cte A:\",round(a,5))\n",
        "print(\"Cte B:\",round(b,5))\n",
        "print(\"Cte C:\",round(c,5))\n",
        "\n",
        "#Ejes del grafico\n",
        "ax = pl.gca()\n",
        "ax.spines['right'].set_color('none')\n",
        "ax.spines['top'].set_color('none')\n",
        "ax.xaxis.set_ticks_position('bottom')\n",
        "ax.spines['bottom'].set_position(('data',0))\n",
        "ax.yaxis.set_ticks_position('left')\n",
        "ax.spines['left'].set_position(('data',0))\n",
        "\n",
        "#Grafica\n",
        "plt.plot(v, func(v,a,b,c),\"--\")\n",
        "plt.xlabel(\"Tension V\")\n",
        "plt.ylabel(\"Corriente I\")\n",
        "plt.plot(v, i, \"o\", color = \"red\")\n",
        "plt.grid(True)\n",
        "plt.show()"
      ],
      "execution_count": null,
      "outputs": [
        {
          "output_type": "stream",
          "text": [
            "Cte A: 8.19987\n",
            "Cte B: 4.97488\n",
            "Cte C: 0.5686\n"
          ],
          "name": "stdout"
        },
        {
          "output_type": "display_data",
          "data": {
            "image/png": "[encoded data removed]",
            "text/plain": [
              "<Figure size 432x288 with 1 Axes>"
            ]
          },
          "metadata": {
            "tags": [],
            "needs_background": "light"
          }
        }
      ]
    },
    {
      "cell_type": "markdown",
      "metadata": {
        "id": "j_19j5HXwPpV"
      },
      "source": [
        "En segundo lugar, determine el valor de $U_0$ hallando el primer valor de tensión en el cual la corriente se hace cero. Hay varias formas de determinar este potencial, algunas de las cuales son más precisas que otras. Para este trabajo, consideraremos el cruce de la curva con el eje de las abcisas (o sea, la tensión $U$)."
      ]
    },
    {
      "cell_type": "code",
      "metadata": {
        "id": "L-bKLZ9mwPpV",
        "colab": {
          "base_uri": "https://localhost:8080/"
        },
        "outputId": "dfa048a6-ef7f-4637-b9a1-be30666068cd"
      },
      "source": [
        "# aca va el valor de U0\n",
        "import sympy as sp\n",
        "import pandas as pd\n",
        "import numpy as np\n",
        "\n",
        "a= 8.199867537851476\n",
        "b= 4.974883206482456\n",
        "c= 0.5686006042389258\n",
        "def samesign(a, b):\n",
        "        return a * b > 0\n",
        "\n",
        "def biseccion(funci, inferior, superior):\n",
        "    assert not samesign(funci(inferior), funci(superior))\n",
        "    for i in range(54):\n",
        "        c = (inferior + superior) / 2.0\n",
        "        if samesign(funci(inferior), funci(c)):\n",
        "            inferior = c\n",
        "        else:\n",
        "            superior = c\n",
        "    return c\n",
        "\n",
        "def f(v):\n",
        "        return a*(np.exp(b*(v+c)) - 0.899)\n",
        "\n",
        "v = biseccion(f, -0.75, -0.5)\n",
        "print (\"El valor de V0 es\",round(v,5),\"para que la funcion sea\", round(f(v),5))"
      ],
      "execution_count": null,
      "outputs": [
        {
          "output_type": "stream",
          "text": [
            "El valor de V0 es -0.59 para que la funcion sea 0.0\n"
          ],
          "name": "stdout"
        }
      ]
    },
    {
      "cell_type": "markdown",
      "metadata": {
        "id": "vx3B0CETwPpW"
      },
      "source": [
        "Ahora proceda a hallar un valor de $U_0$ para cada \n",
        "filtro de color.<br>\n",
        "<br>\n",
        "La ley que sigue la curva del color verde (546 nm) es de la forma $i(v) = A.(e^{B.(v + C)}-0,5201)$. Se deben hallar los parámetros A, B y C (si se calcularon para el amarillo, son los mismos, sólo hay que despejar el valor de $v$ cuando $i(v) = 0$, o sea, puede no usarse la tabla).<br>\n",
        "Debe realizarse el gráfico de la curva, a partir de la ley.\n",
        "<br>\n",
        "<table>\n",
        "  <thead>\n",
        "    <tr><th colspan=2>Color verde (546 nm)</th></tr>\n",
        "    <tr><th>Tensión (V)</th><th>Corriente (pA)</th></tr>\n",
        "  </thead>\n",
        "    <tr><th>-3.00000</th><th>-4.26472</th></tr>\n",
        "    <tr><th>-2.75556</th><th>-4.26461</th></tr>\n",
        "    <tr><th>-2.51111</th><th>-4.26425</th></tr>\n",
        "    <tr><th>-2.26667</th><th>-4.26301</th></tr>\n",
        "    <tr><th>-2.02222</th><th>-4.25884</th></tr>\n",
        "    <tr><th>-1.77778</th><th>-4.24476</th></tr>\n",
        "    <tr><th>-1.53333</th><th>-4.19725</th></tr>\n",
        "    <tr><th>-1.28889</th><th>-4.03696</th></tr>\n",
        "    <tr><th>-1.04444</th><th>-3.49615</th></tr>\n",
        "    <tr><th>-0.80000</th><th>-1.67147</th></tr>\n",
        "    <tr><th>-0.78333</th><th>-1.44728</th></tr>\n",
        "    <tr><th>-0.76667</th><th>-1.20371</th></tr>\n",
        "    <tr><th>-0.75000</th><th>-0.93908</th></tr>\n",
        "    <tr><th>-0.73333</th><th>-0.65158</th></tr>\n",
        "    <tr><th>-0.71667</th><th>-0.33922</th></tr>\n",
        "    <tr><th>-0.70000</th><th>0.00014</th></tr>\n",
        "    <tr><th>-0.68333</th><th>0.36884</th></tr>\n",
        "    <tr><th>-0.66667</th><th>0.76941</th></tr>\n",
        "    <tr><th>-0.65000</th><th>1.20461</th></tr>\n",
        "    <tr><th>-0.57778</th><th>3.56916</th></tr>\n",
        "    <tr><th>-0.50556</th><th>6.95595</th></tr>\n",
        "    <tr><th>-0.43333</th><th>11.80693</th></tr>\n",
        "    <tr><th>-0.36111</th><th>18.75512</th></tr>\n",
        "    <tr><th>-0.28889</th><th>28.70717</th></tr>\n",
        "    <tr><th>-0.21667</th><th>42.96173</th></tr>\n",
        "    <tr><th>-0.14444</th><th>63.37888</th></tr>\n",
        "    <tr><th>-0.07222</th><th>92.62285</th></tr>\n",
        "    <tr><th>0.00000</th><th>134.50970</th></tr>\n",
        "</table>"
      ]
    },
    {
      "cell_type": "code",
      "metadata": {
        "id": "Td1KIxa3-we5",
        "colab": {
          "base_uri": "https://localhost:8080/",
          "height": 370
        },
        "outputId": "aa6a3b3f-7d2a-4144-c717-affe7daa41db"
      },
      "source": [
        "# aca va el valor de U0 para el verde y la grafica\n",
        "import math\n",
        "import matplotlib.pyplot as plt\n",
        "import numpy as np\n",
        "import pylab as pl\n",
        "import sympy as sp\n",
        "import pandas as pd\n",
        "from scipy import optimize\n",
        "from scipy.optimize import curve_fit\n",
        "\n",
        "# Datos del ejercicio\n",
        "v = np.array([-3.00000,-2.75556,-2.51111,-2.26667,-2.02222,-1.77778,-1.53333,-1.28889,-1.04444,-0.80000,-0.78333,-0.76667,-0.75000,-0.73333,-0.71667,-0.70000,-0.68333,-0.66667,-0.65000,-0.57778,-0.50556,-0.43333,-0.36111,-0.28889,-0.21667,-0.14444,-0.07222,0.00000])\n",
        "i = np.array([-4.26472,-4.26461,-4.26425,-4.26301,-4.25884,-4.24476,-4.19725,-4.03696,-3.49615,-1.67147,-1.44728,-1.20371,-0.93908,-0.65158,-0.33922,0.00014,0.36884,0.76941,1.20461,3.56916,6.95595,11.80693,18.75512,28.70717,42.96173,63.37888,92.62285,134.50970])\n",
        "\n",
        "#Funcion del problema\n",
        "def func(v, a, b, c):\n",
        "  return a*(np.exp(b*(v+c)) - 0.5201)\n",
        "\n",
        "#Utilizo la funcion curve_fit para averiguar los parametros A,B y C\n",
        "parametros, params_covariance = optimize.curve_fit (func,v,i)\n",
        "c=parametros[2]\n",
        "b=parametros[1]\n",
        "a=parametros[0]\n",
        "print(\"Cte A:\",round(a,5))\n",
        "print(\"Cte B:\",round(b,5))\n",
        "print(\"Cte C:\",round(c,5))\n",
        "\n",
        "#Utilizo el metodo de biseccion para encontrar la tension que hace que la corriente sea 0\n",
        "def samesign(a, b):\n",
        "        return a * b > 0\n",
        "\n",
        "def biseccion(funci, inferior, superior):\n",
        "    assert not samesign(funci(inferior), funci(superior))\n",
        "    for i in range(54):\n",
        "        c = (inferior + superior) / 2.0\n",
        "        if samesign(funci(inferior), funci(c)):\n",
        "            inferior = c\n",
        "        else:\n",
        "            superior = c\n",
        "    return c\n",
        "\n",
        "def f(t):\n",
        "        return a*(np.exp(b*(t+c)) - 0.5201)\n",
        "\n",
        "t = biseccion(f, -3, -0.5)\n",
        "print (\"El valor de V0 es\",round(t,5),\"para que la corriente sea\",round(f(t),5))\n",
        "\n",
        "#Ejes del grafico\n",
        "ax = pl.gca()\n",
        "ax.spines['right'].set_color('none')\n",
        "ax.spines['top'].set_color('none')\n",
        "ax.xaxis.set_ticks_position('bottom')\n",
        "ax.spines['bottom'].set_position(('data',0))\n",
        "ax.yaxis.set_ticks_position('left')\n",
        "ax.spines['left'].set_position(('data',0))\n",
        "\n",
        "#Grafica\n",
        "plt.plot(v, func(v,a,b,c),\"--\")\n",
        "plt.xlabel(\"Tension V\")\n",
        "plt.ylabel(\"Corriente I\")\n",
        "plt.plot(v, i, \"o\", color = \"red\")\n",
        "plt.grid(True)\n",
        "plt.show()"
      ],
      "execution_count": null,
      "outputs": [
        {
          "output_type": "stream",
          "text": [
            "Cte A: 8.1998\n",
            "Cte B: 4.97491\n",
            "Cte C: 0.5686\n",
            "El valor de V0 es -0.70001 para que la corriente sea 0.0\n"
          ],
          "name": "stdout"
        },
        {
          "output_type": "stream",
          "text": [
            "/usr/local/lib/python3.7/dist-packages/ipykernel_launcher.py:17: RuntimeWarning: overflow encountered in exp\n"
          ],
          "name": "stderr"
        },
        {
          "output_type": "display_data",
          "data": {
            "image/png": "[encoded data removed]",
            "text/plain": [
              "<Figure size 432x288 with 1 Axes>"
            ]
          },
          "metadata": {
            "tags": [],
            "needs_background": "light"
          }
        }
      ]
    },
    {
      "cell_type": "code",
      "metadata": {
        "id": "yU5BfGVL1EXt"
      },
      "source": [
        ""
      ],
      "execution_count": null,
      "outputs": []
    },
    {
      "cell_type": "markdown",
      "metadata": {
        "id": "KW1A9svez7At"
      },
      "source": [
        "La ley que sigue la curva del color azul (436 nm) es de la forma $i(v) = A.(e^{B.(v + C)}-0,0372)$. Los parámetros A, B y C son los mismos que para el verde.<br>\n",
        "Debe realizarse el gráfico de la curva, a partir de la ley.\n",
        "<br>"
      ]
    },
    {
      "cell_type": "code",
      "metadata": {
        "id": "4tlnCL35_bZ9",
        "colab": {
          "base_uri": "https://localhost:8080/",
          "height": 286
        },
        "outputId": "a34eb31e-f763-4579-dab8-b1b640549984"
      },
      "source": [
        "# aca va el valor de U0 para el azul y la grafica\n",
        "import math\n",
        "import matplotlib.pyplot as plt\n",
        "import numpy as np\n",
        "import pylab as pl\n",
        "import sympy as sp\n",
        "import pandas as pd\n",
        "\n",
        "#Constantes halladas anteriormente\n",
        "a= 8.199802068589333\n",
        "b= 4.974911282052066\n",
        "c= 0.5686002548158544\n",
        "\n",
        "#Utilizo el metodo de biseccion para encontrar la tension que hace que la corriente sea 0\n",
        "def samesign(a, b):\n",
        "        return a * b > 0\n",
        "\n",
        "def biseccion(funci, inferior, superior):\n",
        "    assert not samesign(funci(inferior), funci(superior))\n",
        "    for i in range(54):\n",
        "        c = (inferior + superior) / 2.0\n",
        "        if samesign(funci(inferior), funci(c)):\n",
        "            inferior = c\n",
        "        else:\n",
        "            superior = c\n",
        "    return c\n",
        "\n",
        "def f(t):\n",
        "        return a*(np.exp(b*(t+c)) - 0.0372)\n",
        "\n",
        "t = biseccion(f, -3, -0.5)\n",
        "print (\"El valor de V0 es\",round(t,5),\"para que la corriente sea\",round(f(t),5))\n",
        "\n",
        "#Ejes del grafico\n",
        "ax = pl.gca()\n",
        "ax.spines['right'].set_color('none')\n",
        "ax.spines['top'].set_color('none')\n",
        "ax.xaxis.set_ticks_position('bottom')\n",
        "ax.spines['bottom'].set_position(('data',0))\n",
        "ax.yaxis.set_ticks_position('left')\n",
        "ax.spines['left'].set_position(('data',0))\n",
        "\n",
        "#Grafica\n",
        "v= np.linspace(-3, 0, 1000)\n",
        "plt.plot(v, f(v),\"--\")\n",
        "plt.xlabel(\"Tension V\")\n",
        "plt.ylabel(\"Corriente I\")\n",
        "plt.grid(True)\n",
        "plt.show()"
      ],
      "execution_count": null,
      "outputs": [
        {
          "output_type": "stream",
          "text": [
            "El valor de V0 es -1.23021 para que la corriente sea -0.0\n"
          ],
          "name": "stdout"
        },
        {
          "output_type": "display_data",
          "data": {
            "image/png": "[encoded data removed]",
            "text/plain": [
              "<Figure size 432x288 with 1 Axes>"
            ]
          },
          "metadata": {
            "tags": [],
            "needs_background": "light"
          }
        }
      ]
    },
    {
      "cell_type": "markdown",
      "metadata": {
        "id": "GjUoZzJp0AdF"
      },
      "source": [
        "La ley que sigue la curva del color violeta (405 nm) es de la forma $i(v) = A.(e^{\\frac{B}{2}.(v - \\frac{C}{2})}-0,0159)$. Los parámetros A, B y C son los mismos que para el verde.<br>\n",
        "Debe realizarse el gráfico de la curva, a partir de la ley.\n",
        "<br>"
      ]
    },
    {
      "cell_type": "code",
      "metadata": {
        "id": "yQ3JkudCwPpW",
        "colab": {
          "base_uri": "https://localhost:8080/",
          "height": 280
        },
        "outputId": "11cba448-bbd4-440e-9823-8413d970756a"
      },
      "source": [
        "# aca va el valor de U0 para el violeta y la grafica\n",
        "import math\n",
        "import matplotlib.pyplot as plt\n",
        "import numpy as np\n",
        "import pylab as pl\n",
        "import sympy as sp\n",
        "import pandas as pd\n",
        "\n",
        "#Constantes halladas anteriormente\n",
        "A= 8.199802068589333\n",
        "B= 4.974911282052066\n",
        "C= 0.5686002548158544\n",
        "\n",
        "#Utilizo el metodo de biseccion para encontrar la tension que hace que la corriente sea 0\n",
        "def samesign(a, b):\n",
        "        return a * b > 0\n",
        "\n",
        "def biseccion(funci, inferior, superior):\n",
        "    assert not samesign(funci(inferior), funci(superior))\n",
        "    for i in range(54):\n",
        "        c = (inferior + superior) / 2.0\n",
        "        if samesign(funci(inferior), funci(c)):\n",
        "            inferior = c\n",
        "        else:\n",
        "            superior = c\n",
        "    return c\n",
        "\n",
        "def f(t):\n",
        "        return a*(np.exp((b/2)*(t-c/2)) - 0.0159)\n",
        "\n",
        "t = biseccion(f, -3, -0.5)\n",
        "print (\"El valor de V0 es\",round(t,5),\"para que la corriente sea\",round(f(t),5))\n",
        "\n",
        "#Ejes del grafica\n",
        "ax = pl.gca()\n",
        "ax.spines['right'].set_color('none')\n",
        "ax.spines['top'].set_color('none')\n",
        "ax.xaxis.set_ticks_position('bottom')\n",
        "ax.spines['bottom'].set_position(('data',0))\n",
        "ax.yaxis.set_ticks_position('left')\n",
        "ax.spines['left'].set_position(('data',0))\n",
        "\n",
        "#Grafica\n",
        "v= np.linspace(-3, 0, 1000)\n",
        "plt.plot(v, f(v),\"--\")\n",
        "plt.xlabel(\"Tension V\")\n",
        "plt.ylabel(\"Corriente I\")\n",
        "plt.grid(True)\n",
        "plt.show()"
      ],
      "execution_count": null,
      "outputs": [
        {
          "output_type": "stream",
          "text": [
            "El valor de V0 es -1.38064 para que la corriente sea -0.0\n"
          ],
          "name": "stdout"
        },
        {
          "output_type": "display_data",
          "data": {
            "image/png": "[encoded data removed]",
            "text/plain": [
              "<Figure size 432x288 with 1 Axes>"
            ]
          },
          "metadata": {
            "tags": [],
            "needs_background": "light"
          }
        }
      ]
    },
    {
      "cell_type": "markdown",
      "metadata": {
        "id": "fjgjbhXcwPpW"
      },
      "source": [
        "Si todos los pasos fueron ejecutados correctamente, deberá tener una tabla de frecuencias (expresadas en $\\text{[THz]} = 10^{\\text{12}} \\text{[Hz]}$) contra tensiones de corte $U_0$ (expresadas en $\\text{[Volt]}$).<br>\n",
        "<br>\n",
        "En estas condiciones, arme un gráfico X-Y, colocando en X las frecuencias y en Y las tensiones contenidas en la tabla, cambiando el signo de las tensiones (de negativas a positivas, también, por convención) y agregando el error producto de la medición tal cual se explica más abajo. Ajuste una recta a todos los puntos y halle:\n",
        "- Pendiente\n",
        "- Cruce con el eje X (frecuencias)\n",
        "- Ordenada al origen\n",
        "\n",
        "<br><b>Error en tensiones:</b> si bien estamos considerando formas matemáticas para las curvas de tensión y corriente, estas tensiones pueden ser medidas (como hacemos con el color amarillo). Por este motivo, a las tensiones halladas hay que agregarles el error instrumental (despreciamos el de operación). Consideraremos el error de los instrumentos analógicos (mínima división sobre 2) y lo fijaremos en 0,1 V.\n",
        "\n",
        "<br>¿Por qué no consideramos error en las frecuencias? Piense en las magnitudes y unidades de la frecuencia y ensaye una explicación."
      ]
    },
    {
      "cell_type": "markdown",
      "metadata": {
        "id": "xis-mgqHvpYm"
      },
      "source": [
        ""
      ]
    },
    {
      "cell_type": "code",
      "metadata": {
        "id": "JW1JFppIwPpX",
        "colab": {
          "base_uri": "https://localhost:8080/",
          "height": 299
        },
        "outputId": "ce8027e7-3642-4319-f351-088cfa02f76d"
      },
      "source": [
        "# aca va la grafica de ajuste\n",
        "\n",
        "import math\n",
        "import matplotlib.pyplot as plt\n",
        "import numpy as np\n",
        "from scipy import constants as C\n",
        "import pylab as pl\n",
        "\n",
        "#escribo las frecuencias, en valores de longitud de onda(um) y despejo la frecuencia (f=c/lambda) \n",
        "F = C.c / np.array ([0.578e-6,0.546e-6,0.436e-6,0.405e-6])\n",
        "U0 = np.array ([0.5900,0.7000,1.2302,1.3806])\n",
        "dU = np.array ([0.1,0.1,0.1,0.1])\n",
        "\n",
        "def linefit_chi(F, U0, dU):\n",
        "  F_prom = (F / (dU**2)).sum() / (1 / (dU**2)).sum()\n",
        "  U_prom = (U0 / (dU**2)).sum() / (1 / (dU**2)).sum()\n",
        "  m = (U0 / (dU**2) * (F - F_prom)).sum() / (F / (dU**2) * (F - F_prom)).sum()\n",
        "  b = U_prom - m * F_prom\n",
        "  return m, b\n",
        "\n",
        "\n",
        "#Ejes del grafico\n",
        "ax = pl.gca()\n",
        "ax.spines['right'].set_color('none')\n",
        "ax.spines['top'].set_color('none')\n",
        "ax.xaxis.set_ticks_position('bottom')\n",
        "ax.spines['bottom'].set_position(('data',0))\n",
        "ax.yaxis.set_ticks_position('left')\n",
        "ax.spines['left'].set_position(('data',0))\n",
        "\n",
        "\n",
        "def abline_chi(m, b, F, U0, dU):\n",
        "  \n",
        "  F_x = np.linspace (0,7.5e14,1000)\n",
        "  \n",
        "  U_vals = m * F_x + b\n",
        "\n",
        "  #Gráfico\n",
        "  plt.figure(1, figsize = (6,4))\n",
        "  plt.plot(F, U0, 'o', color = 'red')\n",
        "  plt.plot(F_x, U_vals, '--')\n",
        "  plt.plot(-b/m,0,\"o\")  #intersección con el eje x\n",
        "  plt.plot(0,b,\"o\")     #ordenada al origen\n",
        "  plt.xlabel (\"F [Hz]\")\n",
        "  plt.ylabel (\"U0 [V]\")\n",
        "  plt.errorbar(F, U0, fmt = 'ro', xerr = 0, yerr = dU, ecolor = 'black')\n",
        "  plt.show()\n",
        "\n",
        "m, b = linefit_chi(F, U0, dU)\n",
        "raiz = -b/m\n",
        "print(\"Pendiente: {:.4E}\".format(m))\n",
        "print(\"Ordenada: {:.4f}\".format(b))\n",
        "print(\"Raíz: {:.4E}\".format(raiz))\n",
        "abline_chi(m, b, F, U0, dU)"
      ],
      "execution_count": null,
      "outputs": [
        {
          "output_type": "stream",
          "text": [
            "Pendiente: 3.6346E-15\n",
            "Ordenada: -1.2924\n",
            "Raíz: 3.5558E+14\n"
          ],
          "name": "stdout"
        },
        {
          "output_type": "display_data",
          "data": {
            "image/png": "[encoded data removed]",
            "text/plain": [
              "<Figure size 432x288 with 1 Axes>"
            ]
          },
          "metadata": {
            "tags": [],
            "needs_background": "light"
          }
        }
      ]
    },
    {
      "cell_type": "markdown",
      "metadata": {
        "id": "rCtrhk0kwPpX"
      },
      "source": [
        "Indique:\n",
        "- ¿Qué significa la ordenada al origen multiplicada por la carga del electrón?\n",
        "- ¿Qué significa el punto donde la curva cruza por el eje de las abcisas?\n",
        "- Valor de la constante de Planck junto con su error.\n",
        "- Calidad del ajuste R^2."
      ]
    },
    {
      "cell_type": "code",
      "metadata": {
        "id": "0fy4mog3wPpY"
      },
      "source": [
        "# aca van las soluciones de las preguntas y la cte. de Planck"
      ],
      "execution_count": null,
      "outputs": []
    },
    {
      "cell_type": "markdown",
      "metadata": {
        "id": "nq74M5oJ15wD"
      },
      "source": [
        "* ¿Qué significa la ordenada al origen multiplicada por la carga del electrón? Es el trabajo de extracción, este valor de energia es característico del material.\n",
        "\n",
        "utilizando las ecuaciones:\n",
        "\n",
        "E= Q* U0 = (h/q * f - Ua)*Q\n",
        "\n",
        "E=(h*f-Ea)\n",
        "\n",
        "si nos ubicamos en la ordenada al origen significa que la frecuencia(f) es igual a 0, entonces:\n",
        "\n",
        "E = (h*0 - Ea)\n",
        "\n",
        "E = -Ea\n",
        "\n",
        "Es decir se obtiene el trabajo de extraccion"
      ]
    },
    {
      "cell_type": "markdown",
      "metadata": {
        "id": "_eb8zJQ6D79x"
      },
      "source": [
        "* ¿Qué significa el punto donde la curva cruza por el eje de las abcisas?  Es el valor de Frecuencia umbral promedio, es decir la frecuencia en la que se empieza a evidenciar el efectoelectrico. \n",
        "\n",
        "haciendo calculos:\n",
        "\n",
        "U0 = h*f/Q - Ua\n",
        "\n",
        "si la funcion esta sobre el eje x ( frecuecia) siginifica que su imagen (U0) es igual a 0v.\n",
        "\n",
        "Entonces:\n",
        "\n",
        "0= h*f/Q- Ua\n",
        "\n",
        "h*f/Q = Ua\n",
        "\n",
        "y para que se produsca el efecto fotoelectrico \n",
        "h*f/Q >= Ua"
      ]
    },
    {
      "cell_type": "markdown",
      "metadata": {
        "id": "UPU6FQC8LGqx"
      },
      "source": [
        "* Valor de la constante de Planck junto con su error:\n",
        "\n",
        "la pendiente(m) del grafico es U0/f que se puede expresar como h/Q\n",
        "\n",
        "m=U0/f=h/Q    [J*s /C]\n",
        "\n",
        "entonces para obtener la constante de plank debo multiplicar a la pendiente por el modulo de la carga del electron, pero se debe tener en cuenta que h es una medida.\n",
        "\n",
        "El error de m es igual a :\n",
        "\n",
        "delta_m= |deriv(m)/deriv(h)|*delta_H = |deriv(h/Q)/deriv(h)| * delta_h\n",
        "\n",
        "delta_m = delta_h/Q\n",
        "\n",
        "entonces h = (m0 +- delta_m)*Q\n",
        "\n",
        "         h = (h0/Q +- delta_h/Q)*Q\n",
        "         \n",
        "         h = (h0 +-delta_h)\n",
        "\n",
        "reemplazando con los datos:\n",
        "        h = (5.82E-34 +/- 8.66E-35) J*s    \n",
        "\n",
        "\n"
      ]
    },
    {
      "cell_type": "code",
      "metadata": {
        "colab": {
          "base_uri": "https://localhost:8080/"
        },
        "id": "ZyTTvD9dRv_6",
        "outputId": "7ce51212-63c7-4f0b-d63f-1a68b11fd90e"
      },
      "source": [
        "import math\n",
        "import matplotlib.pyplot as plt\n",
        "import numpy as np\n",
        "from scipy import constants as C\n",
        "\n",
        "F = C.c / np.array ([0.578e-6,0.546e-6,0.436e-6,0.405e-6])\n",
        "U0 = np.array ([0.5900,0.7000,1.2302,1.3806])\n",
        "dU = np.array ([0.1,0.1,0.1,0.1])\n",
        "\n",
        "Q=1.602176E-19\n",
        "pend= 3.6346E-15\n",
        "Uint= -1.2924\n",
        "h0=pend*Q\n",
        "\n",
        "# Calcula los errores en los coeficientes\n",
        "def err_parametros(pend, yint,x,y, dy):\n",
        "  x_medio = (x / (dy*2)).sum() / (1 / (dy*2)).sum()\n",
        "  d_pend = np.sqrt(1 / ((x - x_medio) * (x / (dy**2))).sum())  \n",
        "  d_yint = np.sqrt(d_pend * (np.sum((x**2) / (dy**2)) / np.sum(1 / (dy**2))))\n",
        "  print(\"error de la ordenada al origen = ({:.2E} ) \".format(d_yint))   \n",
        "  return d_pend\n",
        "\n",
        "dh=err_parametros(pend,Uint,F,U0, dU)\n",
        "dh=dh*Q\n",
        "print(\"h = ({:.2E} +/- {:.2E}) J*s\".format(h0,dh))\n"
      ],
      "execution_count": null,
      "outputs": [
        {
          "output_type": "stream",
          "text": [
            "error de la ordenada al origen = (1.47E+07 ) \n",
            "h = (5.82E-34 +/- 8.66E-35) J*s\n"
          ],
          "name": "stdout"
        }
      ]
    },
    {
      "cell_type": "code",
      "metadata": {
        "colab": {
          "base_uri": "https://localhost:8080/"
        },
        "id": "swIaTmD-EDFi",
        "outputId": "89d6680e-85a2-401e-c8d0-71d2268e7bc4"
      },
      "source": [
        "import math\n",
        "import matplotlib.pyplot as plt\n",
        "import numpy as np\n",
        "from scipy import constants as C\n",
        "\n",
        "F = C.c / np.array ([0.578e-6,0.546e-6,0.436e-6,0.405e-6])\n",
        "U0 = np.array ([0.5900,0.7000,1.2302,1.3806])\n",
        "\n",
        "pend= 3.6346E-15\n",
        "Uint= -1.2924\n",
        "\n",
        "def r2(pend, Uint, F, U0): \n",
        "  # Devuelve el R^2 del ajuste lineal \n",
        "  yhat = Uint + pend * F\n",
        "  ybar = U0.mean()\n",
        "  ssreg = np.sum((yhat - ybar) ** 2) \n",
        "  sstot = np.sum((U0 - ybar) ** 2)\n",
        "  return ssreg / sstot\n",
        "\n",
        "r2=r2(pend,Uint,F,U0)\n",
        "print(\"Calidad del ajuste R^2: {:.4f}\".format(r2))\n"
      ],
      "execution_count": null,
      "outputs": [
        {
          "output_type": "stream",
          "text": [
            "Calidad del ajuste R^2: 0.9981\n"
          ],
          "name": "stdout"
        }
      ]
    },
    {
      "cell_type": "markdown",
      "metadata": {
        "id": "RzwntJ4sw-4D"
      },
      "source": [
        "Usando este <a href=\"https://phet.colorado.edu/es/simulation/photoelectric\">simulador</a>, probaremos qué pasa con distintos materiales y con distintas intensidades de luz (requiere Java). De no poder ejecutarlo en el navegador, pruebe descargando la <i>aplicación .jar</i> a su computadora y ejecutándola local.<br>\n",
        "<br>\n",
        "<i>1) Seleccione sodio, luz al 100% y longitud de onda de 400 nm. La tensión de corte está en -0.8V. En estas condiciones, varíe la intensidad de la luz. Registre su observación.<br>\n",
        "2) Ahora, ubique el dial de tensión en -0.4V y luz al 100%. Registre su observación.<br>\n",
        "3) Por último, con el dial de tensión en -0.4V, varíe la intensidad lumínica de 100% a 80%, 60% y 40%. Registre sus observaciones.</i><br>\n",
        "<br>\n",
        "Con todos estos registros y junto a la teoría, ¿qué conclusiones puede obtener?<br>\n",
        "<br>\n",
        "<i>1) Seleccione sodio, luz al 100% y longitud de onda en 300 nm. La tensión de corte está en -1.8V. En estas condiciones, seleccione calcio y registre dónde se ubica la nueva tensión de corte.<br>\n",
        "2) Vuelva al sodio y coloque el dial de tensión en 0V, registrando la corriente. Una vez hecho esto, cambie a calcio y registre la nueva corriente.</i><br>\n",
        "<br>\n",
        "Con todos estos registros y junto a la teoría, ¿qué conclusiones puede obtener?\n"
      ]
    },
    {
      "cell_type": "code",
      "metadata": {
        "id": "FTZUne9_2l10"
      },
      "source": [
        "# aca van las respuestas (usar una celda de texto y escribir en cursiva)"
      ],
      "execution_count": null,
      "outputs": []
    },
    {
      "cell_type": "markdown",
      "metadata": {
        "id": "7m_WvVVmGmfB"
      },
      "source": [
        "*En este experimento sometimos unas placas de sodio el cual se le refleja una luz con una determinada frecuencia que genera una corriente fotoeléctrica. Esto es debido a la energía que porta la luz (onda electromagnética) que logra liberar un electrón por cada fotón y con la energía restante hacer mover al electrón (energía cinética). O sea, mayor intensidad luminica la corriente crece. \n",
        "Por otra parte si la frecuencia de la luz aumenta, (longitud de onda más chica) esta portara más energía (E=h.f) por lo cual los electrones liberados tendran mas energía cinética. \n",
        "En el primer caso con un potencial de -0,8V y una logitud de onda de 400nm la corriente es nula pero a medida que variamos el potencial de frenado positivamente la corriente aumenta como es logico pero cuando disminuimos la intensidad luminica la corrinte disminuye.\n",
        "Para el segundo caso el potencial de frenado del sodio para una logitud de onda de 300nm es de -1,8V mientras que para el calcio ese potencial de frenado es de -1,4V esa diferencia tiene que ver con la facilidad que tiene cada material para ceder electrones para la conduccion, con el sodio es mas facil sacar electrones que para el calcio por lo tanto necesito menor potencial de frenado. Por eso cuando anulo el potencial de frenado la corriente en el caso del sodio es mas alta que para el calcio*"
      ]
    },
    {
      "cell_type": "markdown",
      "metadata": {
        "id": "9W1B2nLGKcMm"
      },
      "source": [
        "## CONCLUSIONES"
      ]
    },
    {
      "cell_type": "markdown",
      "metadata": {
        "id": "ZepRV5u4KewK"
      },
      "source": [
        "Intente resumir los resultados del trabajo, resaltando lo que le pareció más importante. Vincule los resultados con el Efecto Fotoeléctrico según lo que describió en la Introducción de este TP."
      ]
    },
    {
      "cell_type": "code",
      "metadata": {
        "id": "sOYkeKiGKd7t"
      },
      "source": [
        "# aca van las conclusiones (usar una celda de texto y escribir en cursiva)"
      ],
      "execution_count": null,
      "outputs": []
    },
    {
      "cell_type": "markdown",
      "metadata": {
        "id": "a25eXNbtShf_"
      },
      "source": [
        "*Como se pudo observar a lo largo del TP el fenomeno fotoelectrico se da cuando un material fotosensible se lo ilumina con un haz de luz que con una determinada frecuencia ioniza el material extrayendo o liberando fotoelectrones, que en el circuito los vemos reflejados en una corriente, aprendimos que esta corriente electrica depende de la intensidad de la luz incidente y la energia cinetica de los electrones liberados depende de la frecuencia de esta luz incidente, para notar este efecto, se aplicó un potencial de frenado mediante una fuente de tension que a mayor potencial de frenado, mayor energía cinética necesitan los electrones para poder circular, tambien notamos que a medida que cambiamos de material fotosensible este potencial de frenado variaba ya que en algunos materiales es mas dificil hacer circular estos fotoelectrones por lo que esta tension iba a ser menor en estos casos.*"
      ]
    }
  ]
}